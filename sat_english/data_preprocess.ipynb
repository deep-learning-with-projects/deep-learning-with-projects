{
 "cells": [
  {
   "cell_type": "code",
   "execution_count": 16,
   "metadata": {},
   "outputs": [],
   "source": [
    "import warnings\n",
    "warnings.simplefilter(action='ignore')\n",
    "\n",
    "import pandas as pd"
   ]
  },
  {
   "cell_type": "markdown",
   "metadata": {},
   "source": [
    "## SAT datset"
   ]
  },
  {
   "cell_type": "code",
   "execution_count": 17,
   "metadata": {},
   "outputs": [],
   "source": [
    "sat_data = pd.read_csv(\"data/raw/sat_problems.csv\")\n",
    "sat_data = sat_data[sat_data[\"question\"].map(lambda x: \"어법\" in x)]"
   ]
  },
  {
   "cell_type": "code",
   "execution_count": 18,
   "metadata": {},
   "outputs": [],
   "source": [
    "sat_train = sat_data[(sat_data[\"year\"] < 2020)]\n",
    "sat_valid = sat_data[(sat_data[\"year\"] == 2020)]\n",
    "sat_test = sat_data[sat_data[\"year\"] > 2020]"
   ]
  },
  {
   "cell_type": "code",
   "execution_count": 19,
   "metadata": {},
   "outputs": [
    {
     "output_type": "stream",
     "name": "stdout",
     "text": [
      "# of train data: 96\n# of valid data: 18\n# of test data: 15\n"
     ]
    }
   ],
   "source": [
    "print(\"# of train data:\", sat_train.shape[0])\n",
    "print(\"# of valid data:\", sat_valid.shape[0])\n",
    "print(\"# of test data:\", sat_test.shape[0])"
   ]
  },
  {
   "cell_type": "code",
   "execution_count": 20,
   "metadata": {},
   "outputs": [],
   "source": [
    "def clean_bracket(string):\n",
    "    string = string.replace(\"[\", \"\")\n",
    "    string = string.replace(\"]\", \"\")\n",
    "    return string"
   ]
  },
  {
   "cell_type": "code",
   "execution_count": 21,
   "metadata": {},
   "outputs": [],
   "source": [
    "sat_train[\"context\"] = sat_train[\"context\"].map(clean_bracket)\n",
    "sat_valid[\"context\"] = sat_valid[\"context\"].map(clean_bracket)\n",
    "sat_test[\"context\"] = sat_test[\"context\"].map(clean_bracket)"
   ]
  },
  {
   "cell_type": "code",
   "execution_count": 22,
   "metadata": {},
   "outputs": [],
   "source": [
    "sat_train[\"label\"] = sat_train[\"label\"].map(int)\n",
    "sat_valid[\"label\"] = sat_valid[\"label\"].map(int)\n",
    "sat_test[\"label\"] = sat_test[\"label\"].map(int)"
   ]
  },
  {
   "cell_type": "code",
   "execution_count": 23,
   "metadata": {},
   "outputs": [],
   "source": [
    "sat_train.to_csv(\"data/processed/sat_train.tsv\", sep=\"\\t\", index=False)\n",
    "sat_valid.to_csv(\"data/processed/sat_valid.tsv\", sep=\"\\t\", index=False)\n",
    "sat_test.to_csv(\"data/processed/sat_test.tsv\", sep=\"\\t\", index=False)"
   ]
  },
  {
   "cell_type": "markdown",
   "metadata": {},
   "source": [
    "## CoLA Daaset"
   ]
  },
  {
   "cell_type": "code",
   "execution_count": 24,
   "metadata": {},
   "outputs": [],
   "source": [
    "columns = [\"source\", \"label\", \"original_judgement\", \"context\"]\n",
    "in_domian_train = pd.read_csv(\"data/raw/cola/in_domain_train.tsv\", sep=\"\\t\", header=None, names=columns)\n",
    "in_domian_dev = pd.read_csv(\"data/raw/cola/in_domain_dev.tsv\", sep=\"\\t\", header=None, names=columns)\n",
    "out_of_domian_dev = pd.read_csv(\"data/raw/cola/out_of_domain_dev.tsv\", sep=\"\\t\", header=None, names=columns)"
   ]
  },
  {
   "cell_type": "code",
   "execution_count": 25,
   "metadata": {},
   "outputs": [
    {
     "output_type": "stream",
     "name": "stdout",
     "text": [
      "# of cola train data: 8551\n# of cola valid data: 527\n# of cola test data: 516\n"
     ]
    }
   ],
   "source": [
    "print(\"# of cola train data:\", in_domian_train.shape[0])\n",
    "print(\"# of cola valid data:\", in_domian_dev.shape[0])\n",
    "print(\"# of cola test data:\", out_of_domian_dev.shape[0])"
   ]
  },
  {
   "cell_type": "code",
   "execution_count": 26,
   "metadata": {},
   "outputs": [],
   "source": [
    "in_domian_train[[\"context\", \"label\"]].to_csv(\"data/processed/cola_train.tsv\", sep=\"\\t\", index=False)\n",
    "in_domian_dev[[\"context\", \"label\"]].to_csv(\"data/processed/cola_valid.tsv\", sep=\"\\t\", index=False)\n",
    "out_of_domian_dev[[\"context\", \"label\"]].to_csv(\"data/processed/cola_test.tsv\", sep=\"\\t\", index=False)"
   ]
  }
 ],
 "metadata": {
  "kernelspec": {
   "display_name": "ds",
   "language": "python",
   "name": "ds"
  },
  "language_info": {
   "codemirror_mode": {
    "name": "ipython",
    "version": 3
   },
   "file_extension": ".py",
   "mimetype": "text/x-python",
   "name": "python",
   "nbconvert_exporter": "python",
   "pygments_lexer": "ipython3",
   "version": "3.7.8-final"
  }
 },
 "nbformat": 4,
 "nbformat_minor": 4
}